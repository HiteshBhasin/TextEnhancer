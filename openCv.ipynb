{
 "cells": [
  {
   "cell_type": "markdown",
   "id": "f7aa1c2f",
   "metadata": {},
   "source": [
    "For this Project , the libraries which require are OpenCV, OCR- to extract the txt, Mediapipe to detect the eye movement, we need to get match eye position to OCR text Line, PYTTSX3 for text-to-speech and add cooldown timer to avoid re-reading the same line. Also, add calibration step to improve eye-tracking accuracy. OCR LIB (pytesseract)"
   ]
  },
  {
   "cell_type": "code",
   "execution_count": 1,
   "id": "459425e3",
   "metadata": {},
   "outputs": [],
   "source": [
    "import cv2\n",
    "import numpy as np\n",
    "capture = cv2.VideoCapture(0)\n",
    "if (capture.isOpened()==False):\n",
    "    print(\"error\")"
   ]
  },
  {
   "cell_type": "code",
   "execution_count": 2,
   "id": "77888f55",
   "metadata": {},
   "outputs": [],
   "source": [
    "height = 300\n",
    "width = 400\n",
    "channels = 3 # this is a color(rgb-red,green, blue)\n",
    "box = np.zeros((height, width, channels), dtype=np.uint8)\n",
    "while True:\n",
    "    ret, frame = capture.read()\n",
    "    if ret==True:\n",
    "        cv2.imshow('Frame',frame)\n",
    "        if cv2.waitKey(1)& 0xFF == 27:#this mean when i  press escape the window will close. \n",
    "            break \n",
    "    else :\n",
    "        break \n",
    "    \n",
    "capture.release()\n",
    "cv2.destroyAllWindows()\n",
    "        \n",
    "       \n",
    "   "
   ]
  }
 ],
 "metadata": {
  "kernelspec": {
   "display_name": "Python 3",
   "language": "python",
   "name": "python3"
  },
  "language_info": {
   "codemirror_mode": {
    "name": "ipython",
    "version": 3
   },
   "file_extension": ".py",
   "mimetype": "text/x-python",
   "name": "python",
   "nbconvert_exporter": "python",
   "pygments_lexer": "ipython3",
   "version": "3.12.3"
  }
 },
 "nbformat": 4,
 "nbformat_minor": 5
}
